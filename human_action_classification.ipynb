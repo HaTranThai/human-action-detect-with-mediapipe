{
  "cells": [
    {
      "cell_type": "code",
      "execution_count": 12,
      "metadata": {},
      "outputs": [
        {
          "name": "stdout",
          "output_type": "stream",
          "text": [
            "Ngrok tunnel \"NgrokTunnel: \"https://02f2-2402-800-63a8-91e1-6d48-f836-9c9a-6524.ngrok-free.app\" -> \"http://localhost:5000\"\" -> \"http://127.0.0.1:5000\"\n",
            "Tunnel data: [<NgrokTunnel: \"https://b3d3-2402-800-63a8-91e1-6d48-f836-9c9a-6524.ngrok-free.app\" -> \"http://localhost:5000\">, <NgrokTunnel: \"https://72c3-2402-800-63a8-91e1-6d48-f836-9c9a-6524.ngrok-free.app\" -> \"http://localhost:5000\">, <NgrokTunnel: \"https://02f2-2402-800-63a8-91e1-6d48-f836-9c9a-6524.ngrok-free.app\" -> \"http://localhost:5000\">]\n",
            "Public URL: https://b3d3-2402-800-63a8-91e1-6d48-f836-9c9a-6524.ngrok-free.app\n"
          ]
        }
      ],
      "source": [
        "from pyngrok import ngrok\n",
        "\n",
        "ngrok.set_auth_token(\"2o3Z0qjy8rua7ByAQpLph00VIIG_33BgdnTtYdJgbmRio7JYN\")\n",
        "\n",
        "public_url = ngrok.connect(5000)\n",
        "print(\"Ngrok tunnel \\\"{}\\\" -> \\\"http://127.0.0.1:5000\\\"\".format(public_url))\n",
        "\n",
        "ngrok_data = ngrok.get_tunnels()\n",
        "print(\"Tunnel data:\", ngrok_data)\n",
        "\n",
        "tunnel_url = ngrok_data[0].public_url\n",
        "print(\"Public URL:\", tunnel_url)"
      ]
    }
  ],
  "metadata": {
    "accelerator": "GPU",
    "colab": {
      "name": "human_action_classification.ipynb",
      "provenance": []
    },
    "kernelspec": {
      "display_name": ".venv",
      "language": "python",
      "name": "python3"
    },
    "language_info": {
      "codemirror_mode": {
        "name": "ipython",
        "version": 3
      },
      "file_extension": ".py",
      "mimetype": "text/x-python",
      "name": "python",
      "nbconvert_exporter": "python",
      "pygments_lexer": "ipython3",
      "version": "3.11.9"
    }
  },
  "nbformat": 4,
  "nbformat_minor": 0
}
